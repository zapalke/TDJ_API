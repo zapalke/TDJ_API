{
 "cells": [
  {
   "cell_type": "code",
   "execution_count": null,
   "metadata": {},
   "outputs": [],
   "source": [
    "import requests\n",
    "import time"
   ]
  },
  {
   "cell_type": "code",
   "execution_count": null,
   "metadata": {},
   "outputs": [],
   "source": [
    "url = 'http://127.0.0.1:8000/api/validate/'\n",
    "headers_with_key = {\n",
    "    'Content-Type': 'application/json',\n",
    "    'apikey': 'rekrutacja2024'\n",
    "}\n",
    "headers_without_key = {\n",
    "    'Content-Type': 'application/json',\n",
    "}\n",
    "headers_with_invalid_key = {\n",
    "    'Content-Type': 'application/json',\n",
    "    'apikey': 'rekrutacja'\n",
    "}"
   ]
  },
  {
   "cell_type": "code",
   "execution_count": null,
   "metadata": {},
   "outputs": [],
   "source": [
    "data = [\n",
    "    {\"num\": 1, \"text\": \"foo\"},\n",
    "    {\"num\": 2, \"text\": 123},\n",
    "    {\"num\": 3, \"text\": \"bar\"},\n",
    "    {\"num\": \"foo\", \"text\": \"bar\"},\n",
    "    {\"num\": \"foo\", \"text\": \"bar\",\"something\":'else'},\n",
    "]"
   ]
  },
  {
   "cell_type": "markdown",
   "metadata": {},
   "source": [
    "Scenario with api key"
   ]
  },
  {
   "cell_type": "code",
   "execution_count": null,
   "metadata": {},
   "outputs": [],
   "source": [
    "response = requests.post(url, headers=headers_with_key, json=data)\n",
    "print(response.json())"
   ]
  },
  {
   "cell_type": "code",
   "execution_count": null,
   "metadata": {},
   "outputs": [],
   "source": [
    "for i in range(4):\n",
    "    print(f'Request {i}')\n",
    "    response = requests.post(url, headers=headers_with_key, json=data)\n",
    "    print(response.json())\n",
    "    print('='*20)"
   ]
  },
  {
   "cell_type": "markdown",
   "metadata": {},
   "source": [
    "Scenario without api key"
   ]
  },
  {
   "cell_type": "code",
   "execution_count": null,
   "metadata": {},
   "outputs": [],
   "source": [
    "response = requests.post(url, headers=headers_with_key, json=data)\n",
    "print(response.json())"
   ]
  },
  {
   "cell_type": "code",
   "execution_count": null,
   "metadata": {},
   "outputs": [],
   "source": [
    "for i in range(4):\n",
    "    print(f'Request {i}')\n",
    "    response = requests.post(url, headers=headers_without_key, json=data)\n",
    "    print(response.json())\n",
    "    print('='*20)\n",
    "\n",
    "time.sleep(60)\n",
    "response = requests.post(url, headers=headers_with_key, json=data)\n",
    "print(response.json())"
   ]
  },
  {
   "cell_type": "markdown",
   "metadata": {},
   "source": [
    "Scenario with invalid key"
   ]
  },
  {
   "cell_type": "code",
   "execution_count": null,
   "metadata": {},
   "outputs": [],
   "source": [
    "for i in range(4):\n",
    "    print(f'Request {i}')\n",
    "    response = requests.post(url, headers=headers_with_invalid_key, json=data)\n",
    "    print(response.json())\n",
    "    print('='*20)"
   ]
  },
  {
   "cell_type": "code",
   "execution_count": null,
   "metadata": {},
   "outputs": [],
   "source": []
  }
 ],
 "metadata": {
  "kernelspec": {
   "display_name": ".venv",
   "language": "python",
   "name": "python3"
  },
  "language_info": {
   "codemirror_mode": {
    "name": "ipython",
    "version": 3
   },
   "file_extension": ".py",
   "mimetype": "text/x-python",
   "name": "python",
   "nbconvert_exporter": "python",
   "pygments_lexer": "ipython3",
   "version": "3.12.2"
  }
 },
 "nbformat": 4,
 "nbformat_minor": 2
}
